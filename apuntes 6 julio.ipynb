{
 "cells": [
  {
   "cell_type": "markdown",
   "id": "4d42b2ea",
   "metadata": {},
   "source": [
    "```python \n",
    "\n",
    "if cond:\n",
    "    #algo\n",
    "else:\n",
    "    #algo\n",
    "\n"
   ]
  },
  {
   "cell_type": "markdown",
   "id": "f0c06d3d",
   "metadata": {},
   "source": [
    "```python\n",
    "\n",
    "a > b # mayor\n",
    "a < b # menor\n",
    "a == b\n",
    "```"
   ]
  },
  {
   "cell_type": "code",
   "execution_count": 1,
   "id": "394fd5c1",
   "metadata": {},
   "outputs": [
    {
     "name": "stdout",
     "output_type": "stream",
     "text": [
      "negativo\n"
     ]
    }
   ],
   "source": [
    "a = -3\n",
    "if a > 0:\n",
    "    print (\"positivo\")\n",
    "else:\n",
    "    print (\"negativo\")"
   ]
  },
  {
   "cell_type": "code",
   "execution_count": 2,
   "id": "ed247b75",
   "metadata": {},
   "outputs": [
    {
     "name": "stdout",
     "output_type": "stream",
     "text": [
      "cero\n"
     ]
    }
   ],
   "source": [
    "a = 0\n",
    "if a > 0:\n",
    "    print  (\"positivo\")\n",
    "else:\n",
    "    if a == 0:\n",
    "        print(\"cero\")\n",
    "    else:\n",
    "        print (\"negativo\")"
   ]
  },
  {
   "cell_type": "code",
   "execution_count": 3,
   "id": "5a5f7231",
   "metadata": {},
   "outputs": [
    {
     "name": "stdout",
     "output_type": "stream",
     "text": [
      "negativo\n"
     ]
    }
   ],
   "source": [
    "a = -3\n",
    "if a >0:\n",
    "    print(\"positivo\")\n",
    "elif a ==0 :\n",
    "    print (\"cero\")\n",
    "else:\n",
    "    print (\"negativo\")"
   ]
  },
  {
   "cell_type": "markdown",
   "id": "0d1bc23c",
   "metadata": {},
   "source": [
    "Divisibilidad (con resto 0)"
   ]
  },
  {
   "cell_type": "code",
   "execution_count": 4,
   "id": "5ff208ae",
   "metadata": {},
   "outputs": [
    {
     "name": "stdout",
     "output_type": "stream",
     "text": [
      "ingrese un día de la sema a del 1 al 77\n",
      "domingo\n"
     ]
    }
   ],
   "source": [
    "dia = int(input ('ingrese un día de la sema a del 1 al 7'))\n",
    "\n",
    "if dia == 1:\n",
    "    print (\"lunes\")\n",
    "elif dia == 2:\n",
    "    print (\"martes\")\n",
    "elif dia == 3:\n",
    "    print (\"miércoles\")\n",
    "elif dia == 4:\n",
    "    print (\"jueves\")\n",
    "elif dia == 5:\n",
    "    print (\"viernes\")\n",
    "elif dia == 6:\n",
    "    print (\"sábado\")\n",
    "else:\n",
    "    print(\"domingo\")"
   ]
  },
  {
   "cell_type": "markdown",
   "id": "f2c09c41",
   "metadata": {},
   "source": [
    "## Estructuras repetitivas"
   ]
  },
  {
   "cell_type": "markdown",
   "id": "90332a06",
   "metadata": {},
   "source": [
    "While"
   ]
  },
  {
   "cell_type": "markdown",
   "id": "80059217",
   "metadata": {},
   "source": [
    "```python\n",
    "\n",
    "a += b\n",
    "a -= b\n",
    "a *= b\n",
    "a /= b"
   ]
  },
  {
   "cell_type": "code",
   "execution_count": 5,
   "id": "794f09f9",
   "metadata": {},
   "outputs": [
    {
     "name": "stdout",
     "output_type": "stream",
     "text": [
      "1\n",
      "2\n",
      "3\n",
      "4\n",
      "5\n",
      "6\n",
      "7\n",
      "8\n",
      "9\n",
      "10\n"
     ]
    }
   ],
   "source": [
    "num = 1\n",
    "\n",
    "while num <= 10:\n",
    "    print (num)\n",
    "    #num = num +1\n",
    "    num +=1"
   ]
  },
  {
   "cell_type": "markdown",
   "id": "6771e6d5",
   "metadata": {},
   "source": [
    "Break"
   ]
  },
  {
   "cell_type": "code",
   "execution_count": 6,
   "id": "1b2ee71c",
   "metadata": {},
   "outputs": [
    {
     "name": "stdout",
     "output_type": "stream",
     "text": [
      "1\n",
      "1\n",
      "2\n",
      "3\n",
      "4\n",
      "5\n",
      "6\n",
      "7\n",
      "8\n",
      "9\n",
      "10\n"
     ]
    }
   ],
   "source": [
    "terminar_en_5 = input ()\n",
    "num = 1\n",
    "\n",
    "while num <= 10:\n",
    "    print(num)\n",
    "    \n",
    "    if terminar_en_5 == \"y\" and num == 5:\n",
    "        break\n",
    "    num += 1"
   ]
  },
  {
   "cell_type": "markdown",
   "id": "22754821",
   "metadata": {},
   "source": [
    "## For"
   ]
  },
  {
   "cell_type": "code",
   "execution_count": 7,
   "id": "f83dff24",
   "metadata": {},
   "outputs": [
    {
     "name": "stdout",
     "output_type": "stream",
     "text": [
      "0\n",
      "1\n",
      "2\n",
      "3\n",
      "4\n",
      "5\n",
      "6\n",
      "7\n",
      "8\n",
      "9\n"
     ]
    }
   ],
   "source": [
    "# i =0 hasta 10-1\n",
    "for i in range (10):\n",
    "    print(i)"
   ]
  },
  {
   "cell_type": "code",
   "execution_count": 8,
   "id": "9b830658",
   "metadata": {},
   "outputs": [
    {
     "name": "stdout",
     "output_type": "stream",
     "text": [
      "1\n",
      "2\n",
      "3\n",
      "4\n",
      "5\n",
      "6\n",
      "7\n",
      "8\n",
      "9\n",
      "10\n"
     ]
    }
   ],
   "source": [
    "# i =0 hasta 10-1\n",
    "for i in range (1,11):\n",
    "    print(i)"
   ]
  },
  {
   "cell_type": "code",
   "execution_count": 9,
   "id": "b4c55d29",
   "metadata": {},
   "outputs": [
    {
     "name": "stdout",
     "output_type": "stream",
     "text": [
      "1\n",
      "3\n",
      "5\n",
      "7\n",
      "9\n"
     ]
    }
   ],
   "source": [
    "#Especificar inicio, final y tamaño del paso\n",
    "for i in range (1,11,2):\n",
    "    print(i)"
   ]
  },
  {
   "cell_type": "code",
   "execution_count": 10,
   "id": "37596f4b",
   "metadata": {},
   "outputs": [
    {
     "name": "stdout",
     "output_type": "stream",
     "text": [
      "10\n",
      "9\n",
      "8\n",
      "7\n",
      "6\n",
      "5\n",
      "4\n",
      "3\n",
      "2\n",
      "1\n"
     ]
    }
   ],
   "source": [
    "# Iterar al revés:\n",
    "for i in reversed (range(1,11)):\n",
    "    print(i)"
   ]
  },
  {
   "cell_type": "code",
   "execution_count": 11,
   "id": "b52aa054",
   "metadata": {},
   "outputs": [
    {
     "name": "stdout",
     "output_type": "stream",
     "text": [
      "7\n",
      "14\n",
      "21\n",
      "28\n",
      "35\n",
      "42\n",
      "49\n",
      "56\n",
      "63\n",
      "70\n",
      "77\n",
      "84\n",
      "91\n",
      "98\n"
     ]
    }
   ],
   "source": [
    "for i in range (7,100,7):\n",
    "    print(i)"
   ]
  },
  {
   "cell_type": "markdown",
   "id": "ddda0e5b",
   "metadata": {},
   "source": [
    "### For Else"
   ]
  },
  {
   "cell_type": "code",
   "execution_count": 12,
   "id": "774d7bf3",
   "metadata": {},
   "outputs": [
    {
     "name": "stdout",
     "output_type": "stream",
     "text": [
      "y\n"
     ]
    }
   ],
   "source": [
    "romper = input()\n",
    "\n",
    "for i in range (100):\n",
    "    #procesando\n",
    "    if romper ==\"y\":\n",
    "        break\n",
    "else:\n",
    "    print(\":D\")"
   ]
  },
  {
   "cell_type": "markdown",
   "id": "32f9610e",
   "metadata": {},
   "source": [
    "## Continue"
   ]
  },
  {
   "cell_type": "code",
   "execution_count": 13,
   "id": "79bb6f25",
   "metadata": {},
   "outputs": [
    {
     "name": "stdout",
     "output_type": "stream",
     "text": [
      "7\n",
      "14\n",
      "21\n",
      "28\n",
      "35\n",
      "42\n",
      "49\n",
      "56\n",
      "63\n",
      "70\n",
      "77\n",
      "84\n",
      "91\n",
      "98\n"
     ]
    }
   ],
   "source": [
    "for i in range (0,100,7):\n",
    "    if i==0:\n",
    "        continue ##ignora lo que está debajo y continúa con la siguiente iteración.\n",
    "    print(i)"
   ]
  },
  {
   "cell_type": "code",
   "execution_count": 14,
   "id": "3f85f0ea",
   "metadata": {},
   "outputs": [
    {
     "name": "stdout",
     "output_type": "stream",
     "text": [
      "1\n",
      "2\n",
      "3\n",
      "4\n",
      "6\n",
      "12\n"
     ]
    }
   ],
   "source": [
    "num = 12\n",
    "for i in range (1,num+1):\n",
    "    if num%i == 0:\n",
    "        print(i)\n"
   ]
  },
  {
   "cell_type": "markdown",
   "id": "f62f46ad",
   "metadata": {},
   "source": [
    "## For en python es en realidad es un foreach"
   ]
  },
  {
   "cell_type": "code",
   "execution_count": 15,
   "id": "a602efd0",
   "metadata": {},
   "outputs": [
    {
     "name": "stdout",
     "output_type": "stream",
     "text": [
      "h\n",
      "o\n",
      "l\n",
      "a\n"
     ]
    }
   ],
   "source": [
    "s=\"hola\"\n",
    "\n",
    "for caracter in s:\n",
    "    print(caracter)"
   ]
  },
  {
   "cell_type": "code",
   "execution_count": 2,
   "id": "3c181548",
   "metadata": {},
   "outputs": [
    {
     "name": "stdout",
     "output_type": "stream",
     "text": [
      "ingrese palabra perroninja\n",
      "a = 1\n",
      "e = 1\n",
      "i = 1\n",
      "o = 1\n",
      "u = 0\n"
     ]
    }
   ],
   "source": [
    "palabra = input(\"ingrese palabra \")\n",
    "\n",
    "vocal_a = 0\n",
    "vocal_e = 0\n",
    "vocal_i = 0\n",
    "vocal_o = 0\n",
    "vocal_u = 0\n",
    "\n",
    "for vocal in palabra.lower():\n",
    "    \n",
    "    if vocal == \"a\":\n",
    "        vocal_a +=1\n",
    "    if vocal == \"e\":\n",
    "        vocal_e +=1\n",
    "    if vocal == \"i\":\n",
    "        vocal_i +=1\n",
    "    if vocal == \"o\":\n",
    "        vocal_o +=1\n",
    "    if vocal ==\"u\":\n",
    "        vocal_u +=1\n",
    "        \n",
    "print(\"a =\",vocal_a)\n",
    "print(\"e =\",vocal_e)\n",
    "print(\"i =\",vocal_i)\n",
    "print(\"o =\",vocal_o)\n",
    "print(\"u =\",vocal_u)\n"
   ]
  },
  {
   "cell_type": "markdown",
   "id": "27577114",
   "metadata": {},
   "source": [
    "dado un numero leido por teclado, imprimir si es capicua/ palindrome 101-> 101 si, 102->201(no)\n",
    "calcular la suma de todos los numeros pares hasta n\n"
   ]
  },
  {
   "cell_type": "code",
   "execution_count": null,
   "id": "a2711860",
   "metadata": {},
   "outputs": [],
   "source": []
  }
 ],
 "metadata": {
  "kernelspec": {
   "display_name": "Python 3 (ipykernel)",
   "language": "python",
   "name": "python3"
  },
  "language_info": {
   "codemirror_mode": {
    "name": "ipython",
    "version": 3
   },
   "file_extension": ".py",
   "mimetype": "text/x-python",
   "name": "python",
   "nbconvert_exporter": "python",
   "pygments_lexer": "ipython3",
   "version": "3.9.12"
  }
 },
 "nbformat": 4,
 "nbformat_minor": 5
}

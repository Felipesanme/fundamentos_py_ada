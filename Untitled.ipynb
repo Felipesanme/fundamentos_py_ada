{
 "cells": [
  {
   "cell_type": "markdown",
   "id": "56a38bbe",
   "metadata": {},
   "source": [
    "Descripción\n",
    "\n",
    "Los números armónicos se definen como:\n",
    "\n",
    "Hn=1/1+1/2+1/3+.....+1/n\n",
    "\n",
    "Donde Hn es el n-simo número armonico.\n",
    "\n",
    "Entrada\n",
    "\n",
    "La entrada consiste en un número \"n\".\n",
    "\n",
    "Salida\n",
    "\n",
    "Imprima el n-simo número armonico, con 4 decimales de precisión."
   ]
  },
  {
   "cell_type": "code",
   "execution_count": 11,
   "id": "a96fa929",
   "metadata": {
    "scrolled": false
   },
   "outputs": [
    {
     "name": "stdout",
     "output_type": "stream",
     "text": [
      "ingrese un número 25\n",
      "1.0000\n",
      "0.5000\n",
      "0.3333\n",
      "0.2500\n",
      "0.2000\n",
      "0.1667\n",
      "0.1429\n",
      "0.1250\n",
      "0.1111\n",
      "0.1000\n"
     ]
    }
   ],
   "source": [
    "n = int(input(\"ingrese un número \"))\n",
    "\n",
    "for i in range (1,n+1):\n",
    "    armonico = 1/i\n",
    "    print(\"{:.4f}\".format(armonico))\n",
    "    if i == 10:\n",
    "        break"
   ]
  },
  {
   "cell_type": "code",
   "execution_count": null,
   "id": "37c71efd",
   "metadata": {},
   "outputs": [],
   "source": []
  }
 ],
 "metadata": {
  "kernelspec": {
   "display_name": "Python 3 (ipykernel)",
   "language": "python",
   "name": "python3"
  },
  "language_info": {
   "codemirror_mode": {
    "name": "ipython",
    "version": 3
   },
   "file_extension": ".py",
   "mimetype": "text/x-python",
   "name": "python",
   "nbconvert_exporter": "python",
   "pygments_lexer": "ipython3",
   "version": "3.9.12"
  }
 },
 "nbformat": 4,
 "nbformat_minor": 5
}

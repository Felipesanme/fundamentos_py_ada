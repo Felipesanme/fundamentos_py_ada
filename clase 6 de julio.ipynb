{
 "cells": [
  {
   "cell_type": "markdown",
   "id": "60244934",
   "metadata": {},
   "source": [
    "```python\n",
    "if cond:\n",
    "    # algo\n",
    "    # algo1\n",
    "    # algo2\n",
    "else:\n",
    "    # algo\n",
    "```"
   ]
  },
  {
   "cell_type": "markdown",
   "id": "13ee284b",
   "metadata": {},
   "source": [
    "if cond {\n",
    "    \n",
    "}"
   ]
  },
  {
   "cell_type": "markdown",
   "id": "f80d009e",
   "metadata": {},
   "source": [
    "Saber si un número es negativo o positivo"
   ]
  },
  {
   "cell_type": "markdown",
   "id": "8c1f5d35",
   "metadata": {},
   "source": [
    "```python\n",
    "a > b # mayor\n",
    "a < b # menor\n",
    "a == b # igual\n",
    "```"
   ]
  },
  {
   "cell_type": "code",
   "execution_count": 8,
   "id": "45d61407",
   "metadata": {},
   "outputs": [
    {
     "name": "stdout",
     "output_type": "stream",
     "text": [
      "negativo\n"
     ]
    }
   ],
   "source": [
    "a = -3\n",
    "\n",
    "if a > 0:\n",
    "    print(\"positivo\")\n",
    "else:\n",
    "    print(\"negativo\")"
   ]
  },
  {
   "cell_type": "markdown",
   "id": "b624c75f",
   "metadata": {},
   "source": [
    "## Elif"
   ]
  },
  {
   "cell_type": "code",
   "execution_count": 12,
   "id": "8253c3b4",
   "metadata": {},
   "outputs": [
    {
     "name": "stdout",
     "output_type": "stream",
     "text": [
      "cero\n"
     ]
    }
   ],
   "source": [
    "a = 0\n",
    "\n",
    "if a > 0:\n",
    "    print(\"positivo\")\n",
    "else:\n",
    "    if a == 0:\n",
    "        print(\"cero\")\n",
    "    else:\n",
    "        print(\"negativo\")"
   ]
  },
  {
   "cell_type": "code",
   "execution_count": 15,
   "id": "f2dde681",
   "metadata": {},
   "outputs": [
    {
     "name": "stdout",
     "output_type": "stream",
     "text": [
      "negativo\n"
     ]
    }
   ],
   "source": [
    "a = -3\n",
    "\n",
    "if a > 0:\n",
    "    print(\"postivo\")\n",
    "elif a == 0:\n",
    "    print(\"cero\")\n",
    "else:\n",
    "    print(\"negativo\")"
   ]
  },
  {
   "cell_type": "markdown",
   "id": "2c6b4cb7",
   "metadata": {},
   "source": [
    "Divisibilidad (con resto 0)"
   ]
  },
  {
   "cell_type": "code",
   "execution_count": 17,
   "id": "75db4796",
   "metadata": {},
   "outputs": [
    {
     "name": "stdout",
     "output_type": "stream",
     "text": [
      "no divisible\n"
     ]
    }
   ],
   "source": [
    "a = 15\n",
    "b = 7\n",
    "\n",
    "if a % b == 0:\n",
    "    print(\"divisible\")\n",
    "else:\n",
    "    print(\"no divisible\")"
   ]
  },
  {
   "cell_type": "markdown",
   "id": "81aed099",
   "metadata": {},
   "source": [
    "Dada una edad categorizar entre\n",
    "* Niño (0 a 14)\n",
    "* Adolescente (15, 18)\n",
    "* Adulto (19, 65)\n",
    "* Adulto mayor (65 -)"
   ]
  },
  {
   "cell_type": "markdown",
   "id": "fc52c090",
   "metadata": {},
   "source": [
    "```python\n",
    "a > b # mayor\n",
    "a >= b\n",
    "a < b # menor\n",
    "a <= b\n",
    "a == b # igual\n",
    "```"
   ]
  },
  {
   "cell_type": "code",
   "execution_count": 21,
   "id": "da90691c",
   "metadata": {},
   "outputs": [
    {
     "name": "stdout",
     "output_type": "stream",
     "text": [
      "adulto mayor\n"
     ]
    }
   ],
   "source": [
    "edad = 70\n",
    "\n",
    "if edad > 65:\n",
    "    print(\"adulto mayor\")\n",
    "elif edad > 18 and edad <= 65:\n",
    "    print(\"adulto\")\n",
    "elif edad > 14 and edad <= 18:\n",
    "    print(\"adolescente\")\n",
    "else:\n",
    "    print(\"niño\")"
   ]
  },
  {
   "cell_type": "markdown",
   "id": "fd4bbcd7",
   "metadata": {},
   "source": [
    "```python\n",
    "and: True si todos sus operandos son verdad\n",
    "or: True si alguno de sus operandos son verdad\n",
    "not: Niega lo que recibe\n",
    "```"
   ]
  },
  {
   "cell_type": "code",
   "execution_count": 22,
   "id": "6ceb482c",
   "metadata": {},
   "outputs": [
    {
     "name": "stdout",
     "output_type": "stream",
     "text": [
      "Esta en el rango de 19 a 65\n"
     ]
    }
   ],
   "source": [
    "edad = 20\n",
    "\n",
    "# if (a or b) and (c or d)\n",
    "\n",
    "# PEP8\n",
    "if 0 <= edad <= 14:\n",
    "    print(\"Esta en el rango de 0 a 14\")\n",
    "elif 15 <= edad <=18:\n",
    "    print(\"Esta en el rango de 15 a 18\")\n",
    "elif 19 <= edad <= 65:\n",
    "    print(\"Esta en el rango de 19 a 65\")\n",
    "else:\n",
    "    print(\"Es mayor a 65\")"
   ]
  },
  {
   "cell_type": "markdown",
   "id": "fa50ae39",
   "metadata": {},
   "source": [
    "```python\n",
    "<valor_si_se_cumple> if <condicion> else <valor_si_no_se_cumple>\n",
    "```"
   ]
  },
  {
   "cell_type": "code",
   "execution_count": null,
   "id": "a8fecfe7",
   "metadata": {},
   "outputs": [],
   "source": [
    "edad = 20\n",
    "\n",
    "# DRY\n",
    "# if edad > 18:\n",
    "#     es_adulto = True\n",
    "# else:\n",
    "#     es_adulto = False\n",
    "    \n",
    "# es_adulto = edad > 18? \"permitido\": \"no permitido\"\n",
    "es_adulto = \"permitido\" if edad > 18 else \"no permitido\"\n",
    "\n",
    "# es_adulto = True if edad > 18 else False\n",
    "es_adulto = edad > 18\n",
    "    \n",
    "# ..."
   ]
  },
  {
   "cell_type": "code",
   "execution_count": 26,
   "id": "70c06673",
   "metadata": {},
   "outputs": [
    {
     "name": "stdout",
     "output_type": "stream",
     "text": [
      "no adolescente\n"
     ]
    }
   ],
   "source": [
    "estado = \"adolescente\" if 15 <= edad <= 18 else \"no adolescente\"\n",
    "print(estado)"
   ]
  },
  {
   "cell_type": "markdown",
   "id": "e1f0c8f9",
   "metadata": {},
   "source": [
    "## Valores vacíos"
   ]
  },
  {
   "cell_type": "code",
   "execution_count": 30,
   "id": "563b79d7",
   "metadata": {},
   "outputs": [
    {
     "name": "stdout",
     "output_type": "stream",
     "text": [
      "no cero\n"
     ]
    }
   ],
   "source": [
    "# val = 8\n",
    "val = \"asdasdad\"\n",
    "\n",
    "if val:\n",
    "    print(\"no cero\")\n",
    "else:\n",
    "    print(\"cero\")"
   ]
  },
  {
   "cell_type": "markdown",
   "id": "5073058f",
   "metadata": {},
   "source": [
    "### None"
   ]
  },
  {
   "cell_type": "code",
   "execution_count": 40,
   "id": "73c8c10c",
   "metadata": {},
   "outputs": [
    {
     "name": "stdout",
     "output_type": "stream",
     "text": [
      "Es None\n"
     ]
    }
   ],
   "source": [
    "a = None\n",
    "\n",
    "if a is not None:\n",
    "    print(\"Es algo\")\n",
    "else:\n",
    "    print(\"Es None\")"
   ]
  },
  {
   "cell_type": "markdown",
   "id": "05c7484c",
   "metadata": {},
   "source": [
    "## Ejercicio\n",
    "\n",
    "Entrada: 1 al 7\n",
    "\n",
    "Salida: Día de la semana (Lunes, ..., Domingo)"
   ]
  },
  {
   "cell_type": "code",
   "execution_count": 43,
   "id": "cd1b2579",
   "metadata": {},
   "outputs": [
    {
     "name": "stdout",
     "output_type": "stream",
     "text": [
      "Digite dia en número. \n",
      "1. Lunes. \n",
      "2. Martes. \n",
      "3. Miercoles. \n",
      "4. Jueves. \n",
      "5. Viernes. \n",
      "6. Sabado. \n",
      "7. Domingo. \n",
      "Opción: 2\n",
      "Es martes\n"
     ]
    }
   ],
   "source": [
    "dia = int(input(\"Digite dia en número. \\n1. Lunes. \\n2. Martes. \\n3. Miercoles. \\n4. Jueves. \\n5. Viernes. \\n6. Sabado. \\n7. Domingo. \\nOpción: \"))\n",
    "\n",
    "if dia == 1:\n",
    "  print(\"Es lunes\")\n",
    "else:\n",
    "  if dia == 2:\n",
    "    print(\"Es martes\")\n",
    "  else:\n",
    "    if dia == 3:\n",
    "      print(\"Es miercoles\")\n",
    "    else:\n",
    "      if dia == 4:\n",
    "       print(\"Es jueves\")\n",
    "      else:\n",
    "        if dia == 5:\n",
    "         print(\"Es viernes\")\n",
    "        else:\n",
    "          if dia == 6:\n",
    "            print(\"Es sabado\")\n",
    "          else:\n",
    "            if(dia == 7):\n",
    "              print(\"Es domingo\")\n",
    "            else:\n",
    "              print(\"Numero no valido\")"
   ]
  },
  {
   "cell_type": "code",
   "execution_count": null,
   "id": "a068f1b0",
   "metadata": {},
   "outputs": [],
   "source": [
    "dia = int(input(\"Digite dia en número. \\n1. Lunes. \\n2. Martes. \\n3. Miercoles. \\n4. Jueves. \\n5. Viernes. \\n6. Sabado. \\n7. Domingo. \\nOpción: \"))\n",
    "\n",
    "if dia == 1:\n",
    "    print(\"Es lunes\")\n",
    "elif dia == 2:\n",
    "    print(\"Es martes\")\n",
    "elif dia == 3:\n",
    "    print(\"Es miercoles\")\n",
    "elif dia == 4:\n",
    "    print(\"Es jueves\")\n",
    "elif dia == 5:\n",
    "    print(\"Es viernes\")\n",
    "elif dia == 6:\n",
    "    print(\"Es sabado\")\n",
    "elif(dia == 7):\n",
    "    print(\"Es domingo\")\n",
    "else:\n",
    "    print(\"Numero no valido\")"
   ]
  },
  {
   "cell_type": "markdown",
   "id": "60226dee",
   "metadata": {},
   "source": [
    "# Estructuras repetitivas"
   ]
  },
  {
   "cell_type": "markdown",
   "id": "6a289500",
   "metadata": {},
   "source": [
    "## While"
   ]
  },
  {
   "cell_type": "markdown",
   "id": "0c254172",
   "metadata": {},
   "source": [
    "```python\n",
    "a += b -> a = a + b\n",
    "a -= b -> a = a - b\n",
    "a *= b -> a = a * b\n",
    "a /= b -> a = a / b\n",
    "```"
   ]
  },
  {
   "cell_type": "code",
   "execution_count": 46,
   "id": "872dc966",
   "metadata": {},
   "outputs": [
    {
     "name": "stdout",
     "output_type": "stream",
     "text": [
      "1\n",
      "2\n",
      "3\n",
      "4\n",
      "5\n",
      "6\n",
      "7\n",
      "8\n",
      "9\n",
      "10\n"
     ]
    }
   ],
   "source": [
    "num = 1\n",
    "\n",
    "while num <= 10:\n",
    "    print(num)\n",
    "    num += 1"
   ]
  },
  {
   "cell_type": "markdown",
   "id": "4273085c",
   "metadata": {},
   "source": [
    "Break"
   ]
  },
  {
   "cell_type": "code",
   "execution_count": 49,
   "id": "eaa26977",
   "metadata": {},
   "outputs": [
    {
     "name": "stdout",
     "output_type": "stream",
     "text": [
      "Terminar en 5? y/n: y\n",
      "1\n",
      "2\n",
      "3\n",
      "4\n",
      "5\n"
     ]
    }
   ],
   "source": [
    "terminar_en_5 = input(\"Terminar en 5? y/n: \")\n",
    "\n",
    "num = 1\n",
    "\n",
    "while num <= 10:\n",
    "    print(num)\n",
    "    \n",
    "    if terminar_en_5 == \"y\" and num == 5:\n",
    "        break\n",
    "    \n",
    "    num += 1"
   ]
  },
  {
   "cell_type": "markdown",
   "id": "1dafc985",
   "metadata": {},
   "source": [
    "## For"
   ]
  },
  {
   "cell_type": "code",
   "execution_count": 51,
   "id": "e02e63bc",
   "metadata": {},
   "outputs": [
    {
     "name": "stdout",
     "output_type": "stream",
     "text": [
      "0\n",
      "1\n",
      "2\n",
      "3\n",
      "4\n",
      "5\n",
      "6\n",
      "7\n",
      "8\n",
      "9\n"
     ]
    }
   ],
   "source": [
    "# i = 0 hasta 10-1\n",
    "for i in range(10):\n",
    "    print(i)"
   ]
  },
  {
   "cell_type": "code",
   "execution_count": 53,
   "id": "139974c7",
   "metadata": {},
   "outputs": [
    {
     "name": "stdout",
     "output_type": "stream",
     "text": [
      "1\n",
      "2\n",
      "3\n",
      "4\n",
      "5\n",
      "6\n",
      "7\n",
      "8\n",
      "9\n",
      "10\n"
     ]
    }
   ],
   "source": [
    "## especificar Inicio y Final\n",
    "for i in range(1, 11):\n",
    "    print(i)"
   ]
  },
  {
   "cell_type": "code",
   "execution_count": 54,
   "id": "c1119a24",
   "metadata": {},
   "outputs": [
    {
     "name": "stdout",
     "output_type": "stream",
     "text": [
      "1\n",
      "3\n",
      "5\n",
      "7\n",
      "9\n"
     ]
    }
   ],
   "source": [
    "# Especificar inicio, final y tamaño del paso\n",
    "for i in range(1, 11, 2):\n",
    "    print(i)"
   ]
  },
  {
   "cell_type": "code",
   "execution_count": 56,
   "id": "cbf20f1b",
   "metadata": {},
   "outputs": [
    {
     "name": "stdout",
     "output_type": "stream",
     "text": [
      "10\n",
      "9\n",
      "8\n",
      "7\n",
      "6\n",
      "5\n",
      "4\n",
      "3\n",
      "2\n",
      "1\n"
     ]
    }
   ],
   "source": [
    "## Iterar al revés:\n",
    "for i in reversed(range(1, 11)): # range(10, 1, -1)\n",
    "    print(i)"
   ]
  },
  {
   "cell_type": "markdown",
   "id": "660b4d02",
   "metadata": {},
   "source": [
    "Imprimir los múltiplos de 7 en el rango del 0 al 100"
   ]
  },
  {
   "cell_type": "code",
   "execution_count": 59,
   "id": "7ff5a567",
   "metadata": {},
   "outputs": [
    {
     "name": "stdout",
     "output_type": "stream",
     "text": [
      "0\n",
      "7\n",
      "14\n",
      "21\n",
      "28\n",
      "35\n",
      "42\n",
      "49\n",
      "56\n",
      "63\n",
      "70\n",
      "77\n",
      "84\n",
      "91\n",
      "98\n"
     ]
    }
   ],
   "source": [
    "for i in range (0, 100, 7):\n",
    "    print(i)"
   ]
  },
  {
   "cell_type": "code",
   "execution_count": 60,
   "id": "d12b5f1d",
   "metadata": {},
   "outputs": [
    {
     "name": "stdout",
     "output_type": "stream",
     "text": [
      "0\n",
      "7\n",
      "14\n",
      "21\n",
      "28\n",
      "35\n",
      "42\n",
      "49\n",
      "56\n",
      "63\n",
      "70\n",
      "77\n",
      "84\n",
      "91\n",
      "98\n"
     ]
    }
   ],
   "source": [
    "for i in range(0,100):\n",
    "  if i % 7 == 0:\n",
    "    print(i)"
   ]
  },
  {
   "cell_type": "code",
   "execution_count": 66,
   "id": "870ca3f1",
   "metadata": {},
   "outputs": [
    {
     "name": "stdout",
     "output_type": "stream",
     "text": [
      "0\n",
      "7\n",
      "14\n",
      "21\n",
      "28\n",
      "35\n",
      "42\n",
      "49\n",
      "56\n",
      "63\n",
      "70\n",
      "77\n",
      "84\n",
      "91\n",
      "98\n"
     ]
    }
   ],
   "source": [
    "for i in range(0, 100+1, 1):\n",
    "    if(i % 7 == 0):\n",
    "        print(i)"
   ]
  },
  {
   "cell_type": "markdown",
   "id": "5e6a4190",
   "metadata": {},
   "source": [
    "## For else"
   ]
  },
  {
   "cell_type": "code",
   "execution_count": 70,
   "id": "21d5a858",
   "metadata": {},
   "outputs": [
    {
     "name": "stdout",
     "output_type": "stream",
     "text": [
      "y\n"
     ]
    }
   ],
   "source": [
    "romper = input()\n",
    "\n",
    "for i in range(100):\n",
    "    # Procesando\n",
    "    if romper == \"y\":\n",
    "        break\n",
    "else:\n",
    "    print(\":D\")"
   ]
  },
  {
   "cell_type": "markdown",
   "id": "afa37b0b",
   "metadata": {},
   "source": [
    "## Continue"
   ]
  },
  {
   "cell_type": "code",
   "execution_count": 71,
   "id": "0f239b45",
   "metadata": {},
   "outputs": [
    {
     "name": "stdout",
     "output_type": "stream",
     "text": [
      "7\n",
      "14\n",
      "21\n",
      "28\n",
      "35\n",
      "42\n",
      "49\n",
      "56\n",
      "63\n",
      "70\n",
      "77\n",
      "84\n",
      "91\n",
      "98\n"
     ]
    }
   ],
   "source": [
    "for i in range (0, 100, 7):\n",
    "    if i == 0:\n",
    "        continue\n",
    "        \n",
    "    print(i)"
   ]
  },
  {
   "cell_type": "code",
   "execution_count": 72,
   "id": "54dead35",
   "metadata": {},
   "outputs": [
    {
     "name": "stdout",
     "output_type": "stream",
     "text": [
      "7\n",
      "14\n",
      "21\n",
      "28\n",
      "35\n",
      "42\n",
      "49\n",
      "56\n",
      "63\n",
      "70\n",
      "77\n",
      "84\n",
      "91\n",
      "98\n"
     ]
    }
   ],
   "source": [
    "for i in range (0, 100, 7):\n",
    "    if i != 0:\n",
    "        print(i)"
   ]
  },
  {
   "cell_type": "markdown",
   "id": "37d707f5",
   "metadata": {},
   "source": [
    "### Ejercicio\n",
    "\n",
    "Imprimir los divisores de un número\n",
    "\n",
    "12 -> 1, 2, 3, 4, 6, 12"
   ]
  },
  {
   "cell_type": "code",
   "execution_count": 73,
   "id": "193d659d",
   "metadata": {},
   "outputs": [
    {
     "name": "stdout",
     "output_type": "stream",
     "text": [
      "1\n",
      "2\n",
      "3\n",
      "4\n",
      "6\n",
      "12\n"
     ]
    }
   ],
   "source": [
    "num = 12\n",
    "for i in range (1,num+1):\n",
    "    if num%i == 0:\n",
    "        print(i)"
   ]
  },
  {
   "cell_type": "code",
   "execution_count": 74,
   "id": "e701f3e4",
   "metadata": {},
   "outputs": [
    {
     "name": "stdout",
     "output_type": "stream",
     "text": [
      "1\n",
      "2\n",
      "3\n",
      "4\n",
      "6\n",
      "12\n"
     ]
    }
   ],
   "source": [
    "num = 12\n",
    "for i in range(1, 100):\n",
    "  if num % i == 0:\n",
    "    print(i)"
   ]
  },
  {
   "cell_type": "code",
   "execution_count": 77,
   "id": "0d8c0b7d",
   "metadata": {},
   "outputs": [
    {
     "name": "stdout",
     "output_type": "stream",
     "text": [
      "1\n",
      "2\n",
      "3\n",
      "4\n",
      "6\n",
      "12\n"
     ]
    }
   ],
   "source": [
    "for i in range(1, 12+1):\n",
    "#     if i % 12 == 0:\n",
    "    if 12 % i == 0:\n",
    "        print(i)"
   ]
  },
  {
   "cell_type": "markdown",
   "id": "afdaa793",
   "metadata": {},
   "source": [
    "## El for de python es en realidad un foreach"
   ]
  },
  {
   "cell_type": "code",
   "execution_count": 78,
   "id": "5dc186b4",
   "metadata": {},
   "outputs": [
    {
     "name": "stdout",
     "output_type": "stream",
     "text": [
      "h\n",
      "o\n",
      "l\n",
      "a\n"
     ]
    }
   ],
   "source": [
    "s = \"hola\"\n",
    "\n",
    "for caracter in s:\n",
    "    print(caracter)"
   ]
  },
  {
   "cell_type": "code",
   "execution_count": 85,
   "id": "a63af483",
   "metadata": {},
   "outputs": [
    {
     "name": "stdout",
     "output_type": "stream",
     "text": [
      "2\n"
     ]
    }
   ],
   "source": [
    "vocales = 0\n",
    "s = \"HoLA\"\n",
    "\n",
    "for c in s.lower():\n",
    "# for c in s:\n",
    "#     c = c.lower()\n",
    "    if c == \"a\" or c == \"e\" or c == \"i\" or c == \"o\" or c == \"u\":\n",
    "        vocales += 1\n",
    "        \n",
    "print(vocales)"
   ]
  },
  {
   "cell_type": "markdown",
   "id": "27a677f1",
   "metadata": {},
   "source": [
    "### Ejercicio\n",
    "\n",
    "Contar cuántas de cada vocal hay en una palabra\n",
    "\"murcielago\""
   ]
  },
  {
   "cell_type": "code",
   "execution_count": 88,
   "id": "c0c1f270",
   "metadata": {},
   "outputs": [
    {
     "name": "stdout",
     "output_type": "stream",
     "text": [
      "1 1 1 1 1\n"
     ]
    }
   ],
   "source": [
    "palabra = \"murcielago\"\n",
    "cont_a = 0\n",
    "cont_e = 0\n",
    "cont_i = 0\n",
    "cont_o = 0\n",
    "cont_u = 0\n",
    "\n",
    "for c in palabra.lower():\n",
    "#     if c in \"aeiou\":\n",
    "    if c == \"a\":\n",
    "        cont_a += 1\n",
    "    if c == \"e\":\n",
    "        cont_e += 1\n",
    "    if c == \"i\":\n",
    "        cont_i += 1\n",
    "    if c == \"o\":\n",
    "        cont_o += 1\n",
    "    if c == \"u\":\n",
    "        cont_u += 1\n",
    "\n",
    "print(cont_a, cont_e, cont_i, cont_o, cont_u)"
   ]
  },
  {
   "cell_type": "code",
   "execution_count": 90,
   "id": "15879007",
   "metadata": {},
   "outputs": [
    {
     "name": "stdout",
     "output_type": "stream",
     "text": [
      "o\n",
      "g\n",
      "a\n",
      "l\n",
      "e\n",
      "i\n",
      "c\n",
      "r\n",
      "u\n",
      "m\n"
     ]
    }
   ],
   "source": [
    "for c in reversed(palabra):\n",
    "    print(c)"
   ]
  },
  {
   "cell_type": "markdown",
   "id": "04574e45",
   "metadata": {},
   "source": [
    "## Ejercicios para la casa:\n",
    "\n",
    "1. dado un número leído por teclado, imprimir si es capicua/palíndrome 101 -> 101 (si), 102 -> 201 (no)\n",
    "2. calcular la suma de todos los números pares hasta n"
   ]
  }
 ],
 "metadata": {
  "kernelspec": {
   "display_name": "Python 3 (ipykernel)",
   "language": "python",
   "name": "python3"
  },
  "language_info": {
   "codemirror_mode": {
    "name": "ipython",
    "version": 3
   },
   "file_extension": ".py",
   "mimetype": "text/x-python",
   "name": "python",
   "nbconvert_exporter": "python",
   "pygments_lexer": "ipython3",
   "version": "3.10.4"
  }
 },
 "nbformat": 4,
 "nbformat_minor": 5
}
